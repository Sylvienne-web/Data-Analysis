{
 "cells": [
  {
   "cell_type": "code",
   "execution_count": 1,
   "metadata": {},
   "outputs": [],
   "source": [
    "import pandas as pd\n",
    "import urllib, math\n",
    "from sqlalchemy import create_engine\n",
    "from sqlalchemy.types import NVARCHAR",
   ]
  },
  {
   "cell_type": "markdown",
   "metadata": {},
   "source": [
    "# Open csv file into defined dictionary"
   ]
  },
  {
   "cell_type": "code",
   "execution_count": 2,
   "metadata": {},
   "outputs": [],
   "source": [
    "file = 'r\"C:\\path"'\n",
    "data_types = {'Date': 'object',\n",
    " 'Store Number': 'object',\n",
    " 'Store Name': 'object',\n",
    " 'City': 'object',\n",
    " 'Category Name': 'object',\n",
    " 'Vendor Number': 'object',\n",
    " 'Vendor Name': 'object'}\n",
    "data = pd.read_csv(file, dtype=data_types)"
   ]
  },
  {
   "cell_type": "markdown",
   "metadata": {},
   "source": [
    "# Convert columns to SQL Server's standards"
   ]
  },
{
   "cell_type": "code",
   "execution_count": 3,
   "metadata": {},
   "outputs": [],
   "source": [
    "data['Date'] = pd.to_datetime(data['Date'], format='%m/%d/%Y')\n",
    "data['Date'] = data['Date'].dt.strftime('%Y-%m-%d')\n",
    "data.columns = data.columns.str.replace(' ', '_')\n",
    "csv_file_dest = r\"C:\\dest_path\"\n",
    "data.to_csv(csv_file_dest)"
   ]
  },
  {
   "cell_type": "markdown",
   "metadata": {},
   "source": [
    "# Set up the Server, schema & table"
   ]
  },
  {
   "cell_type": "code",
   "execution_count": 4,
   "metadata": {},
   "outputs": [],
   "source": [
   "sqlserver = urllib.parse.quote_plus(r\"Driver={ODBC Driver 17 for SQL Server};Server=xxx;Database=xxx;Trusted_Connection=Yes;\")\n",
    "engine = create_engine('mssql+pyodbc:///?odbc_connect={}'.format(sqlserver),fast_executemany=True)\n",
    "tablename='HMD_TABLE'\n",
    "schemaname = 'dbo'\n",
    "txt_cols = data.select_dtypes(include = ['object']).columns\n",
    "columns = {col_name: NVARCHAR for col_name in txt_cols}"
   ]
  },
  {
   "cell_type": "markdown",
   "metadata": {},
   "source": [
    "# Load every 500,000 rows to SQL Server"
   ]
  },
  {
   "cell_type": "code",
   "execution_count": 5,
   "metadata": {},
   "outputs": [],
   "source": [
    "start = 0\n",
    "end = math.ceil(len(data)/100000)*100000\n",
    "step = 500000\n",
    "for i in range(start,end,step):\n",
    "    data_sample = data.iloc[i:i+step,:]\n",
    "    data_sample.to_sql(tablename, schema=schemaname, con=engine, index=False, if_exists='append',dtype = columns)\n",
    "    print(f\"Rows {i}-{i+step} done\")"
   ]
  }
 ],
 "metadata": {
  "language_info": {
   "name": "python"
  }
 },
 "nbformat": 4,
 "nbformat_minor": 2
}

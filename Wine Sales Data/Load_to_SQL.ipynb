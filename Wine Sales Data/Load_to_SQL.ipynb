{
 "cells": [
  {
   "cell_type": "code",
   "execution_count": null,
   "metadata": {
    "vscode": {
     "languageId": "plaintext"
    }
   },
   "outputs": [],
   "source": [
    "import pandas as pd\n",
    "import pyodbc, urllib, math\n",
    "from sqlalchemy import create_engine\n",
    "from sqlalchemy.types import NVARCHAR\n",
    "\n",
    "file = r\"C:\\Users\\phanh\\Downloads\\Technical_Test_BI\\data_sales.csv\"\n",
    "\n",
    "data_types = {'Date': 'object',\n",
    " 'Store Number': 'object',\n",
    " 'Store Name': 'object',\n",
    " 'City': 'object',\n",
    " 'Category Name': 'object',\n",
    " 'Vendor Number': 'object',\n",
    " 'Vendor Name': 'object'}\n",
    "\n",
    "data = pd.read_csv(file, dtype=data_types)\n",
    "\n",
    "data['Date'] = pd.to_datetime(data['Date'], format='%m/%d/%Y')\n",
    "data['Date'] = data['Date'].dt.strftime('%Y-%m-%d')\n",
    "\n",
    "# t1 = data[0:100]\n",
    "\n",
    "# Columns' names in SQL Server cannot have space\n",
    "data.columns = data.columns.str.replace(' ', '_')\n",
    "\n",
    "csv_file_dest = r\"C:\\Users\\phanh\\Downloads\\Technical_Test_BI\\data_sales_standardized.csv\"\n",
    "data.to_csv(csv_file_dest)\n",
    "\n",
    "sqlserver = urllib.parse.quote_plus(r\"Driver={ODBC Driver 17 for SQL Server};Server=PTHAOKEKE\\SQLEXPRESS;Database=interview_data;Trusted_Connection=Yes;\")\n",
    "engine = create_engine('mssql+pyodbc:///?odbc_connect={}'.format(sqlserver),fast_executemany=True)\n",
    "\n",
    "tablename='HMD_TABLE'\n",
    "schemaname = 'dbo'\n",
    "txt_cols = data.select_dtypes(include = ['object']).columns\n",
    "columns = {col_name: NVARCHAR for col_name in txt_cols}\n",
    "\n",
    "start = 0\n",
    "end = math.ceil(len(data)/100000)*100000\n",
    "step = 500000\n",
    "for i in range(start,end,step):\n",
    "    data_sample = data.iloc[i:i+step,:]\n",
    "    data_sample.to_sql(tablename, schema=schemaname, con=engine, index=False, if_exists='append',dtype = columns)\n",
    "    print(f\"Rows {i}-{i+step} done\")\n",
    "\n",
    "\n",
    "\n",
    "\n",
    "\n",
    "\n",
    "\n"
   ]
  }
 ],
 "metadata": {
  "language_info": {
   "name": "python"
  }
 },
 "nbformat": 4,
 "nbformat_minor": 2
}
